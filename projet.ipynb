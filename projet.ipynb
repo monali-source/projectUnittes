{
 "cells": [
  {
   "cell_type": "code",
   "execution_count": null,
   "metadata": {},
   "outputs": [],
   "source": [
    "class Calculator:\n",
    "    def add(x, y):\n",
    "        return x + y\n",
    "    def subtract(x, y):\n",
    "        return x - y\n",
    "    def multiply(x, y):\n",
    "        return x * y\n",
    "    def divide(x, y):\n",
    "        return x / y\n",
    "    def power(x, y):\n",
    "        result = 1\n",
    "        for i in range(y):\n",
    "        result *= x\n",
    "        return result\n",
    "    def square_root(x):\n",
    "        if x == 0 or x == 1:\n",
    "            return x\n",
    "        val = x\n",
    "        precision = 0.0000001\n",
    "        while abs(val - x / val) > precision:\n",
    "            val = (val + x / val) / 2\n",
    "        return val\n",
    "    def calculate(operation, x, y):\n",
    "        if operation == \"add\":\n",
    "            result = Calculator.add(x,y)\n",
    "        elif operation == \"substract\":\n",
    "            result = Calculator.subtract(x,y)\n",
    "        elif operation == \"multiply\":\n",
    "            result = Calculator.multiply(x,y)\n",
    "        elif operation == \"divide\":\n",
    "            result = Calculator.divide(x,y)\n",
    "        elif operation == \"power\":\n",
    "            result = Calculator.power(x,y)\n",
    "        elif operation == \"square_root\":\n",
    "            result = Calculator.square_root(x)\n",
    "        return result\n",
    "operation = input(\"Enter the operation you would like to perform (add,\n",
    "subtract, multiply, divide, square_root, power): \")\n",
    "num1 = int(input(\"Enter the first number : \"))\n",
    "num2 = int(input(\"Enter the secod number : \"))\n",
    "print(calculate(operation, num1, num2))"
   ]
  }
 ],
 "metadata": {
  "kernelspec": {
   "display_name": "base",
   "language": "python",
   "name": "python3"
  },
  "language_info": {
   "codemirror_mode": {
    "name": "ipython",
    "version": 3
   },
   "file_extension": ".py",
   "mimetype": "text/x-python",
   "name": "python",
   "nbconvert_exporter": "python",
   "pygments_lexer": "ipython3",
   "version": "3.9.7"
  },
  "orig_nbformat": 4,
  "vscode": {
   "interpreter": {
    "hash": "0feca73451e3ab3c697f79c3efc5787b7170526a69d249ff4a325a7c795ddde2"
   }
  }
 },
 "nbformat": 4,
 "nbformat_minor": 2
}
