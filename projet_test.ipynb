{
 "cells": [
  {
   "cell_type": "code",
   "execution_count": 22,
   "metadata": {},
   "outputs": [],
   "source": [
    "import unittest"
   ]
  },
  {
   "cell_type": "code",
   "execution_count": 26,
   "metadata": {},
   "outputs": [],
   "source": [
    "class Calculatortest(unittest.TestCase):\n",
    "    def addtest(x, y, r, self):\n",
    "        result = x + y\n",
    "        return self.assertEqual(r, result)   \n",
    "    def subtracttest(x, y, s, self):\n",
    "        result = x - y\n",
    "        return self.assertEqual(s, result)\n"
   ]
  },
  {
   "cell_type": "code",
   "execution_count": 27,
   "metadata": {},
   "outputs": [
    {
     "ename": "TypeError",
     "evalue": "assertEqual() missing 1 required positional argument: 'second'",
     "output_type": "error",
     "traceback": [
      "\u001b[1;31m---------------------------------------------------------------------------\u001b[0m",
      "\u001b[1;31mTypeError\u001b[0m                                 Traceback (most recent call last)",
      "\u001b[1;32mc:\\Users\\patel\\Downloads\\pythonM1\\projet_test.ipynb Cellule 3\u001b[0m in \u001b[0;36m<cell line: 5>\u001b[1;34m()\u001b[0m\n\u001b[0;32m      <a href='vscode-notebook-cell:/c%3A/Users/patel/Downloads/pythonM1/projet_test.ipynb#W2sZmlsZQ%3D%3D?line=2'>3</a>\u001b[0m         \u001b[39mreturn\u001b[39;00m x \u001b[39m+\u001b[39m y\n\u001b[0;32m      <a href='vscode-notebook-cell:/c%3A/Users/patel/Downloads/pythonM1/projet_test.ipynb#W2sZmlsZQ%3D%3D?line=3'>4</a>\u001b[0m r \u001b[39m=\u001b[39m add(\u001b[39m3\u001b[39m,\u001b[39m2\u001b[39m)\n\u001b[1;32m----> <a href='vscode-notebook-cell:/c%3A/Users/patel/Downloads/pythonM1/projet_test.ipynb#W2sZmlsZQ%3D%3D?line=4'>5</a>\u001b[0m c\u001b[39m.\u001b[39;49massertEqual(\u001b[39m3\u001b[39;49m,\u001b[39m3\u001b[39;49m)\n\u001b[0;32m      <a href='vscode-notebook-cell:/c%3A/Users/patel/Downloads/pythonM1/projet_test.ipynb#W2sZmlsZQ%3D%3D?line=5'>6</a>\u001b[0m \u001b[39mprint\u001b[39m(c\u001b[39m.\u001b[39maddtest(\u001b[39m3\u001b[39m, \u001b[39m2\u001b[39m, r, c))\n",
      "\u001b[1;31mTypeError\u001b[0m: assertEqual() missing 1 required positional argument: 'second'"
     ]
    }
   ],
   "source": [
    "c = Calculatortest\n",
    "def add(x, y):\n",
    "        return x + y\n",
    "r = add(3,2)\n",
    "print(c.addtest(3, 2, r, c))\n",
    "def subtract(x, y):\n",
    "        return x - y\n",
    "s = subtract(3,2)\n",
    "print(c.subtracttest(3, 2, s, c))\n",
    "\n"
   ]
  },
  {
   "cell_type": "code",
   "execution_count": null,
   "metadata": {},
   "outputs": [],
   "source": []
  }
 ],
 "metadata": {
  "kernelspec": {
   "display_name": "base",
   "language": "python",
   "name": "python3"
  },
  "language_info": {
   "codemirror_mode": {
    "name": "ipython",
    "version": 3
   },
   "file_extension": ".py",
   "mimetype": "text/x-python",
   "name": "python",
   "nbconvert_exporter": "python",
   "pygments_lexer": "ipython3",
   "version": "3.9.7"
  },
  "orig_nbformat": 4,
  "vscode": {
   "interpreter": {
    "hash": "0feca73451e3ab3c697f79c3efc5787b7170526a69d249ff4a325a7c795ddde2"
   }
  }
 },
 "nbformat": 4,
 "nbformat_minor": 2
}
